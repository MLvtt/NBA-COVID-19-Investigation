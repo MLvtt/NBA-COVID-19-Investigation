{
 "metadata": {
  "language_info": {
   "codemirror_mode": {
    "name": "ipython",
    "version": 3
   },
   "file_extension": ".py",
   "mimetype": "text/x-python",
   "name": "python",
   "nbconvert_exporter": "python",
   "pygments_lexer": "ipython3",
   "version": "3.8.2"
  },
  "orig_nbformat": 2,
  "kernelspec": {
   "name": "python382jvsc74a57bd0f6bdf78043db99d935f40f61a24bf6e40a19bb6491673070e840ece9dc443399",
   "display_name": "Python 3.8.2 64-bit ('base': conda)"
  }
 },
 "nbformat": 4,
 "nbformat_minor": 2,
 "cells": [
  {
   "cell_type": "code",
   "execution_count": 1,
   "metadata": {},
   "outputs": [],
   "source": [
    "import pandas as pd\n",
    "import numpy as np\n",
    "import requests, copy\n",
    "from pprint import pprint\n",
    "from bs4 import BeautifulSoup\n",
    "from bball_ref_scraper import BBRefScraper"
   ]
  },
  {
   "source": [
    "### Create Initial DataFrame from scraping http://www.prosportstransactions.com/"
   ],
   "cell_type": "markdown",
   "metadata": {}
  },
  {
   "cell_type": "code",
   "execution_count": 2,
   "metadata": {},
   "outputs": [
    {
     "output_type": "execute_result",
     "data": {
      "text/plain": [
       "        Date   Team        Healed             Injured  \\\n",
       "0 2020-03-11  76ers   Joel Embiid                       \n",
       "1 2020-03-11  Bucks  Eric Bledsoe                       \n",
       "2 2020-03-11  Bucks   George Hill                       \n",
       "3 2020-03-11  Bulls                Chandler Hutchison   \n",
       "4 2020-03-11   Heat                      Jimmy Butler   \n",
       "\n",
       "                                        Notes  \n",
       "0                           activated from IL  \n",
       "1                           activated from IL  \n",
       "2                           activated from IL  \n",
       "3  surgery on right shoulder (out for season)  \n",
       "4       placed on IL with left big toe injury  "
      ],
      "text/html": "<div>\n<style scoped>\n    .dataframe tbody tr th:only-of-type {\n        vertical-align: middle;\n    }\n\n    .dataframe tbody tr th {\n        vertical-align: top;\n    }\n\n    .dataframe thead th {\n        text-align: right;\n    }\n</style>\n<table border=\"1\" class=\"dataframe\">\n  <thead>\n    <tr style=\"text-align: right;\">\n      <th></th>\n      <th>Date</th>\n      <th>Team</th>\n      <th>Healed</th>\n      <th>Injured</th>\n      <th>Notes</th>\n    </tr>\n  </thead>\n  <tbody>\n    <tr>\n      <th>0</th>\n      <td>2020-03-11</td>\n      <td>76ers</td>\n      <td>Joel Embiid</td>\n      <td></td>\n      <td>activated from IL</td>\n    </tr>\n    <tr>\n      <th>1</th>\n      <td>2020-03-11</td>\n      <td>Bucks</td>\n      <td>Eric Bledsoe</td>\n      <td></td>\n      <td>activated from IL</td>\n    </tr>\n    <tr>\n      <th>2</th>\n      <td>2020-03-11</td>\n      <td>Bucks</td>\n      <td>George Hill</td>\n      <td></td>\n      <td>activated from IL</td>\n    </tr>\n    <tr>\n      <th>3</th>\n      <td>2020-03-11</td>\n      <td>Bulls</td>\n      <td></td>\n      <td>Chandler Hutchison</td>\n      <td>surgery on right shoulder (out for season)</td>\n    </tr>\n    <tr>\n      <th>4</th>\n      <td>2020-03-11</td>\n      <td>Heat</td>\n      <td></td>\n      <td>Jimmy Butler</td>\n      <td>placed on IL with left big toe injury</td>\n    </tr>\n  </tbody>\n</table>\n</div>"
     },
     "metadata": {},
     "execution_count": 2
    }
   ],
   "source": [
    "df_json = pd.read_json(\"../data/pst_nba_injuries_2020_2021.txt\")\n",
    "df = df_json.copy()\n",
    "df.head(5)"
   ]
  },
  {
   "source": [
    "### Reformat the DataFrame"
   ],
   "cell_type": "markdown",
   "metadata": {}
  },
  {
   "cell_type": "code",
   "execution_count": 3,
   "metadata": {},
   "outputs": [
    {
     "output_type": "execute_result",
     "data": {
      "text/plain": [
       "        Date     Team              Player   Status  \\\n",
       "0 2020-03-11    76ers         Joel Embiid   Healed   \n",
       "1 2020-03-11    Bucks        Eric Bledsoe   Healed   \n",
       "2 2020-03-11    Bucks         George Hill   Healed   \n",
       "3 2020-03-11    Bulls  Chandler Hutchison  Injured   \n",
       "4 2020-03-11     Heat        Jimmy Butler  Injured   \n",
       "5 2020-03-11     Heat         Jae Crowder   Healed   \n",
       "6 2020-03-11     Heat         Tyler Herro   Healed   \n",
       "7 2020-03-11  Hornets        Terry Rozier  Injured   \n",
       "8 2020-03-11     Jazz     Emmanuel Mudiay  Injured   \n",
       "9 2020-03-11     Jazz         Rudy Gobert  Injured   \n",
       "\n",
       "                                        Notes  \n",
       "0                           activated from IL  \n",
       "1                           activated from IL  \n",
       "2                           activated from IL  \n",
       "3  surgery on right shoulder (out for season)  \n",
       "4       placed on IL with left big toe injury  \n",
       "5                          returned to lineup  \n",
       "6                           activated from IL  \n",
       "7                   placed on IL with illness  \n",
       "8                               illness (DTD)  \n",
       "9     COVID-19 coronavirus (out indefinitely)  "
      ],
      "text/html": "<div>\n<style scoped>\n    .dataframe tbody tr th:only-of-type {\n        vertical-align: middle;\n    }\n\n    .dataframe tbody tr th {\n        vertical-align: top;\n    }\n\n    .dataframe thead th {\n        text-align: right;\n    }\n</style>\n<table border=\"1\" class=\"dataframe\">\n  <thead>\n    <tr style=\"text-align: right;\">\n      <th></th>\n      <th>Date</th>\n      <th>Team</th>\n      <th>Player</th>\n      <th>Status</th>\n      <th>Notes</th>\n    </tr>\n  </thead>\n  <tbody>\n    <tr>\n      <th>0</th>\n      <td>2020-03-11</td>\n      <td>76ers</td>\n      <td>Joel Embiid</td>\n      <td>Healed</td>\n      <td>activated from IL</td>\n    </tr>\n    <tr>\n      <th>1</th>\n      <td>2020-03-11</td>\n      <td>Bucks</td>\n      <td>Eric Bledsoe</td>\n      <td>Healed</td>\n      <td>activated from IL</td>\n    </tr>\n    <tr>\n      <th>2</th>\n      <td>2020-03-11</td>\n      <td>Bucks</td>\n      <td>George Hill</td>\n      <td>Healed</td>\n      <td>activated from IL</td>\n    </tr>\n    <tr>\n      <th>3</th>\n      <td>2020-03-11</td>\n      <td>Bulls</td>\n      <td>Chandler Hutchison</td>\n      <td>Injured</td>\n      <td>surgery on right shoulder (out for season)</td>\n    </tr>\n    <tr>\n      <th>4</th>\n      <td>2020-03-11</td>\n      <td>Heat</td>\n      <td>Jimmy Butler</td>\n      <td>Injured</td>\n      <td>placed on IL with left big toe injury</td>\n    </tr>\n    <tr>\n      <th>5</th>\n      <td>2020-03-11</td>\n      <td>Heat</td>\n      <td>Jae Crowder</td>\n      <td>Healed</td>\n      <td>returned to lineup</td>\n    </tr>\n    <tr>\n      <th>6</th>\n      <td>2020-03-11</td>\n      <td>Heat</td>\n      <td>Tyler Herro</td>\n      <td>Healed</td>\n      <td>activated from IL</td>\n    </tr>\n    <tr>\n      <th>7</th>\n      <td>2020-03-11</td>\n      <td>Hornets</td>\n      <td>Terry Rozier</td>\n      <td>Injured</td>\n      <td>placed on IL with illness</td>\n    </tr>\n    <tr>\n      <th>8</th>\n      <td>2020-03-11</td>\n      <td>Jazz</td>\n      <td>Emmanuel Mudiay</td>\n      <td>Injured</td>\n      <td>illness (DTD)</td>\n    </tr>\n    <tr>\n      <th>9</th>\n      <td>2020-03-11</td>\n      <td>Jazz</td>\n      <td>Rudy Gobert</td>\n      <td>Injured</td>\n      <td>COVID-19 coronavirus (out indefinitely)</td>\n    </tr>\n  </tbody>\n</table>\n</div>"
     },
     "metadata": {},
     "execution_count": 3
    }
   ],
   "source": [
    "\n",
    "df['Player'] = df['Healed'] + df['Injured']\n",
    "df['Status'] = np.where(df['Healed'] == '', 'Injured', 'Healed')\n",
    "df = df[['Date', 'Team', 'Player', 'Status', 'Notes']]\n",
    "df.head(10)"
   ]
  },
  {
   "source": [
    "### Extract players out for COVID or \"Health and Safety Protocols\""
   ],
   "cell_type": "markdown",
   "metadata": {}
  },
  {
   "cell_type": "code",
   "execution_count": 4,
   "metadata": {},
   "outputs": [
    {
     "output_type": "execute_result",
     "data": {
      "text/plain": [
       "           Date     Team            Player   Status  \\\n",
       "9    2020-03-11     Jazz       Rudy Gobert  Injured   \n",
       "19   2020-03-12     Jazz  Donovan Mitchell  Injured   \n",
       "21   2020-03-14  Pistons    Christian Wood  Injured   \n",
       "22   2020-03-17     Nets      Kevin Durant  Injured   \n",
       "24   2020-03-19  Celtics      Marcus Smart  Injured   \n",
       "...         ...      ...               ...      ...   \n",
       "2846 2021-05-09  Pistons    Hamidou Diallo  Injured   \n",
       "2957 2021-05-14  Thunder         Josh Hall  Injured   \n",
       "2969 2021-05-15     Heat    Omer Yurtseven  Injured   \n",
       "3031 2021-05-16    Spurs   DaQuan Jeffries  Injured   \n",
       "3041 2021-05-18   Pacers      Caris LeVert  Injured   \n",
       "\n",
       "                                                  Notes  \n",
       "9               COVID-19 coronavirus (out indefinitely)  \n",
       "19                           COVID-19 coronavirus (DTD)  \n",
       "21                           COVID-19 coronavirus (DTD)  \n",
       "22                NBA health and safety protocols (DTD)  \n",
       "24              COVID-19 coronavirus (out indefinitely)  \n",
       "...                                                 ...  \n",
       "2846  placed on IL with NBA health and safety protocols  \n",
       "2957  placed on IL with NBA health and safety protoc...  \n",
       "2969  placed on IL with NBA health and safety protocols  \n",
       "3031  placed on IL with NBA health and safety protoc...  \n",
       "3041  placed on IL with NBA health and safety protoc...  \n",
       "\n",
       "[240 rows x 5 columns]"
      ],
      "text/html": "<div>\n<style scoped>\n    .dataframe tbody tr th:only-of-type {\n        vertical-align: middle;\n    }\n\n    .dataframe tbody tr th {\n        vertical-align: top;\n    }\n\n    .dataframe thead th {\n        text-align: right;\n    }\n</style>\n<table border=\"1\" class=\"dataframe\">\n  <thead>\n    <tr style=\"text-align: right;\">\n      <th></th>\n      <th>Date</th>\n      <th>Team</th>\n      <th>Player</th>\n      <th>Status</th>\n      <th>Notes</th>\n    </tr>\n  </thead>\n  <tbody>\n    <tr>\n      <th>9</th>\n      <td>2020-03-11</td>\n      <td>Jazz</td>\n      <td>Rudy Gobert</td>\n      <td>Injured</td>\n      <td>COVID-19 coronavirus (out indefinitely)</td>\n    </tr>\n    <tr>\n      <th>19</th>\n      <td>2020-03-12</td>\n      <td>Jazz</td>\n      <td>Donovan Mitchell</td>\n      <td>Injured</td>\n      <td>COVID-19 coronavirus (DTD)</td>\n    </tr>\n    <tr>\n      <th>21</th>\n      <td>2020-03-14</td>\n      <td>Pistons</td>\n      <td>Christian Wood</td>\n      <td>Injured</td>\n      <td>COVID-19 coronavirus (DTD)</td>\n    </tr>\n    <tr>\n      <th>22</th>\n      <td>2020-03-17</td>\n      <td>Nets</td>\n      <td>Kevin Durant</td>\n      <td>Injured</td>\n      <td>NBA health and safety protocols (DTD)</td>\n    </tr>\n    <tr>\n      <th>24</th>\n      <td>2020-03-19</td>\n      <td>Celtics</td>\n      <td>Marcus Smart</td>\n      <td>Injured</td>\n      <td>COVID-19 coronavirus (out indefinitely)</td>\n    </tr>\n    <tr>\n      <th>...</th>\n      <td>...</td>\n      <td>...</td>\n      <td>...</td>\n      <td>...</td>\n      <td>...</td>\n    </tr>\n    <tr>\n      <th>2846</th>\n      <td>2021-05-09</td>\n      <td>Pistons</td>\n      <td>Hamidou Diallo</td>\n      <td>Injured</td>\n      <td>placed on IL with NBA health and safety protocols</td>\n    </tr>\n    <tr>\n      <th>2957</th>\n      <td>2021-05-14</td>\n      <td>Thunder</td>\n      <td>Josh Hall</td>\n      <td>Injured</td>\n      <td>placed on IL with NBA health and safety protoc...</td>\n    </tr>\n    <tr>\n      <th>2969</th>\n      <td>2021-05-15</td>\n      <td>Heat</td>\n      <td>Omer Yurtseven</td>\n      <td>Injured</td>\n      <td>placed on IL with NBA health and safety protocols</td>\n    </tr>\n    <tr>\n      <th>3031</th>\n      <td>2021-05-16</td>\n      <td>Spurs</td>\n      <td>DaQuan Jeffries</td>\n      <td>Injured</td>\n      <td>placed on IL with NBA health and safety protoc...</td>\n    </tr>\n    <tr>\n      <th>3041</th>\n      <td>2021-05-18</td>\n      <td>Pacers</td>\n      <td>Caris LeVert</td>\n      <td>Injured</td>\n      <td>placed on IL with NBA health and safety protoc...</td>\n    </tr>\n  </tbody>\n</table>\n<p>240 rows × 5 columns</p>\n</div>"
     },
     "metadata": {},
     "execution_count": 4
    }
   ],
   "source": [
    "df_cv19 = df[np.logical_or(df['Notes'].str.contains('COVID'), df['Notes'].str.contains('protocol'))]\n",
    "df_cv19"
   ]
  },
  {
   "source": [
    "240 instances of players being held out due to COVID protocols since 03/11/2020 (The day Rudy Gobert tested positive and the league shut down)"
   ],
   "cell_type": "markdown",
   "metadata": {}
  },
  {
   "source": [
    "### Just COVID data for 2020-2021 NBA Season"
   ],
   "cell_type": "markdown",
   "metadata": {}
  },
  {
   "cell_type": "code",
   "execution_count": 5,
   "metadata": {},
   "outputs": [
    {
     "output_type": "execute_result",
     "data": {
      "text/plain": [
       "           Date     Team                           Player   Status  \\\n",
       "415  2020-12-22  Blazers                    Nassir Little  Injured   \n",
       "423  2020-12-22    Hawks                      Rajon Rondo  Injured   \n",
       "468  2020-12-23  Rockets  Kenyon Martin Jr. / K.J. Martin  Injured   \n",
       "472  2020-12-25    Bucks                   Mamadi Diakite  Injured   \n",
       "475  2020-12-25  Rockets                     Ben McLemore  Injured   \n",
       "...         ...      ...                              ...      ...   \n",
       "2846 2021-05-09  Pistons                   Hamidou Diallo  Injured   \n",
       "2957 2021-05-14  Thunder                        Josh Hall  Injured   \n",
       "2969 2021-05-15     Heat                   Omer Yurtseven  Injured   \n",
       "3031 2021-05-16    Spurs                  DaQuan Jeffries  Injured   \n",
       "3041 2021-05-18   Pacers                     Caris LeVert  Injured   \n",
       "\n",
       "                                                  Notes  \n",
       "415                                      COVID-19 (DTD)  \n",
       "423   placed on IL with NBA health and safety protocols  \n",
       "468   placed on IL with NBA health and safety protocols  \n",
       "472   placed on IL with NBA health and safety protoc...  \n",
       "475                                  COVID-19 protocols  \n",
       "...                                                 ...  \n",
       "2846  placed on IL with NBA health and safety protocols  \n",
       "2957  placed on IL with NBA health and safety protoc...  \n",
       "2969  placed on IL with NBA health and safety protocols  \n",
       "3031  placed on IL with NBA health and safety protoc...  \n",
       "3041  placed on IL with NBA health and safety protoc...  \n",
       "\n",
       "[230 rows x 5 columns]"
      ],
      "text/html": "<div>\n<style scoped>\n    .dataframe tbody tr th:only-of-type {\n        vertical-align: middle;\n    }\n\n    .dataframe tbody tr th {\n        vertical-align: top;\n    }\n\n    .dataframe thead th {\n        text-align: right;\n    }\n</style>\n<table border=\"1\" class=\"dataframe\">\n  <thead>\n    <tr style=\"text-align: right;\">\n      <th></th>\n      <th>Date</th>\n      <th>Team</th>\n      <th>Player</th>\n      <th>Status</th>\n      <th>Notes</th>\n    </tr>\n  </thead>\n  <tbody>\n    <tr>\n      <th>415</th>\n      <td>2020-12-22</td>\n      <td>Blazers</td>\n      <td>Nassir Little</td>\n      <td>Injured</td>\n      <td>COVID-19 (DTD)</td>\n    </tr>\n    <tr>\n      <th>423</th>\n      <td>2020-12-22</td>\n      <td>Hawks</td>\n      <td>Rajon Rondo</td>\n      <td>Injured</td>\n      <td>placed on IL with NBA health and safety protocols</td>\n    </tr>\n    <tr>\n      <th>468</th>\n      <td>2020-12-23</td>\n      <td>Rockets</td>\n      <td>Kenyon Martin Jr. / K.J. Martin</td>\n      <td>Injured</td>\n      <td>placed on IL with NBA health and safety protocols</td>\n    </tr>\n    <tr>\n      <th>472</th>\n      <td>2020-12-25</td>\n      <td>Bucks</td>\n      <td>Mamadi Diakite</td>\n      <td>Injured</td>\n      <td>placed on IL with NBA health and safety protoc...</td>\n    </tr>\n    <tr>\n      <th>475</th>\n      <td>2020-12-25</td>\n      <td>Rockets</td>\n      <td>Ben McLemore</td>\n      <td>Injured</td>\n      <td>COVID-19 protocols</td>\n    </tr>\n    <tr>\n      <th>...</th>\n      <td>...</td>\n      <td>...</td>\n      <td>...</td>\n      <td>...</td>\n      <td>...</td>\n    </tr>\n    <tr>\n      <th>2846</th>\n      <td>2021-05-09</td>\n      <td>Pistons</td>\n      <td>Hamidou Diallo</td>\n      <td>Injured</td>\n      <td>placed on IL with NBA health and safety protocols</td>\n    </tr>\n    <tr>\n      <th>2957</th>\n      <td>2021-05-14</td>\n      <td>Thunder</td>\n      <td>Josh Hall</td>\n      <td>Injured</td>\n      <td>placed on IL with NBA health and safety protoc...</td>\n    </tr>\n    <tr>\n      <th>2969</th>\n      <td>2021-05-15</td>\n      <td>Heat</td>\n      <td>Omer Yurtseven</td>\n      <td>Injured</td>\n      <td>placed on IL with NBA health and safety protocols</td>\n    </tr>\n    <tr>\n      <th>3031</th>\n      <td>2021-05-16</td>\n      <td>Spurs</td>\n      <td>DaQuan Jeffries</td>\n      <td>Injured</td>\n      <td>placed on IL with NBA health and safety protoc...</td>\n    </tr>\n    <tr>\n      <th>3041</th>\n      <td>2021-05-18</td>\n      <td>Pacers</td>\n      <td>Caris LeVert</td>\n      <td>Injured</td>\n      <td>placed on IL with NBA health and safety protoc...</td>\n    </tr>\n  </tbody>\n</table>\n<p>230 rows × 5 columns</p>\n</div>"
     },
     "metadata": {},
     "execution_count": 5
    }
   ],
   "source": [
    "df_cv19_2021 = df_cv19[df_cv19['Date'] >= '12-01-2020']\n",
    "df_cv19_2021"
   ]
  },
  {
   "source": [
    "230 instances of players being held out due to COVID protocols during 2020-2021 NBA season"
   ],
   "cell_type": "markdown",
   "metadata": {}
  },
  {
   "source": [
    "### Unique Players"
   ],
   "cell_type": "markdown",
   "metadata": {}
  },
  {
   "cell_type": "code",
   "execution_count": 6,
   "metadata": {},
   "outputs": [
    {
     "output_type": "execute_result",
     "data": {
      "text/plain": [
       "182"
      ]
     },
     "metadata": {},
     "execution_count": 6
    }
   ],
   "source": [
    "players = df_cv19_2021['Player'].unique()\n",
    "len(players)"
   ]
  },
  {
   "cell_type": "code",
   "execution_count": null,
   "metadata": {},
   "outputs": [],
   "source": []
  },
  {
   "source": [
    "182 Unique Players were held out due to COVID protocols during 2020-2021 NBA season"
   ],
   "cell_type": "markdown",
   "metadata": {}
  },
  {
   "source": [
    "### Generate basketball-reference.com IDs"
   ],
   "cell_type": "markdown",
   "metadata": {}
  },
  {
   "cell_type": "code",
   "execution_count": 8,
   "metadata": {},
   "outputs": [],
   "source": [
    "from bball_ref_id_generator import id_generator\n"
   ]
  },
  {
   "cell_type": "code",
   "execution_count": 14,
   "metadata": {},
   "outputs": [
    {
     "output_type": "stream",
     "name": "stderr",
     "text": [
      "/Users/mbun/Code/dsi_galvanize/capstones/capstone_1/NBA-COVID-19-Investigation/code/bball_ref_id_generator.py:25: GuessedAtParserWarning: No parser was explicitly specified, so I'm using the best available HTML parser for this system (\"lxml\"). This usually isn't a problem, but if you run this code on another system, or in a different virtual environment, it may use a different parser and behave differently.\n",
      "\n",
      "The code that caused this warning is on line 25 of the file /Users/mbun/Code/dsi_galvanize/capstones/capstone_1/NBA-COVID-19-Investigation/code/bball_ref_id_generator.py. To get rid of this warning, pass the additional argument 'features=\"lxml\"' to the BeautifulSoup constructor.\n",
      "\n",
      "  soup = BeautifulSoup(r.content, 'html')\n",
      "/Users/mbun/Code/dsi_galvanize/capstones/capstone_1/NBA-COVID-19-Investigation/code/bball_ref_id_generator.py:40: GuessedAtParserWarning: No parser was explicitly specified, so I'm using the best available HTML parser for this system (\"lxml\"). This usually isn't a problem, but if you run this code on another system, or in a different virtual environment, it may use a different parser and behave differently.\n",
      "\n",
      "The code that caused this warning is on line 40 of the file /Users/mbun/Code/dsi_galvanize/capstones/capstone_1/NBA-COVID-19-Investigation/code/bball_ref_id_generator.py. To get rid of this warning, pass the additional argument 'features=\"lxml\"' to the BeautifulSoup constructor.\n",
      "\n",
      "  soup = BeautifulSoup(r.content, 'html')\n"
     ]
    }
   ],
   "source": [
    "bbref_id_list = []\n",
    "for player in players:\n",
    "    bbref_id = id_generator(player)\n",
    "    if isinstance(bbref_id, tuple):\n",
    "        print('Something messed up')\n",
    "    else:\n",
    "        bbref_id_list.append([player, bbref_id])"
   ]
  },
  {
   "cell_type": "code",
   "execution_count": 17,
   "metadata": {},
   "outputs": [
    {
     "output_type": "execute_result",
     "data": {
      "text/plain": [
       "                              Player   BBRef_ID\n",
       "0                      Nassir Little  littlna01\n",
       "1                        Rajon Rondo  rondora01\n",
       "2    Kenyon Martin Jr. / K.J. Martin  martike01\n",
       "3                     Mamadi Diakite  diakima01\n",
       "4                       Ben McLemore  mclembe01\n",
       "..                               ...        ...\n",
       "177                     Luca Vildoza  vildolu01\n",
       "178                   Hamidou Diallo  diallha01\n",
       "179                   Omer Yurtseven  yurtsom01\n",
       "180                  DaQuan Jeffries  jeffrda01\n",
       "181                     Caris LeVert  leverca01\n",
       "\n",
       "[182 rows x 2 columns]"
      ],
      "text/html": "<div>\n<style scoped>\n    .dataframe tbody tr th:only-of-type {\n        vertical-align: middle;\n    }\n\n    .dataframe tbody tr th {\n        vertical-align: top;\n    }\n\n    .dataframe thead th {\n        text-align: right;\n    }\n</style>\n<table border=\"1\" class=\"dataframe\">\n  <thead>\n    <tr style=\"text-align: right;\">\n      <th></th>\n      <th>Player</th>\n      <th>BBRef_ID</th>\n    </tr>\n  </thead>\n  <tbody>\n    <tr>\n      <th>0</th>\n      <td>Nassir Little</td>\n      <td>littlna01</td>\n    </tr>\n    <tr>\n      <th>1</th>\n      <td>Rajon Rondo</td>\n      <td>rondora01</td>\n    </tr>\n    <tr>\n      <th>2</th>\n      <td>Kenyon Martin Jr. / K.J. Martin</td>\n      <td>martike01</td>\n    </tr>\n    <tr>\n      <th>3</th>\n      <td>Mamadi Diakite</td>\n      <td>diakima01</td>\n    </tr>\n    <tr>\n      <th>4</th>\n      <td>Ben McLemore</td>\n      <td>mclembe01</td>\n    </tr>\n    <tr>\n      <th>...</th>\n      <td>...</td>\n      <td>...</td>\n    </tr>\n    <tr>\n      <th>177</th>\n      <td>Luca Vildoza</td>\n      <td>vildolu01</td>\n    </tr>\n    <tr>\n      <th>178</th>\n      <td>Hamidou Diallo</td>\n      <td>diallha01</td>\n    </tr>\n    <tr>\n      <th>179</th>\n      <td>Omer Yurtseven</td>\n      <td>yurtsom01</td>\n    </tr>\n    <tr>\n      <th>180</th>\n      <td>DaQuan Jeffries</td>\n      <td>jeffrda01</td>\n    </tr>\n    <tr>\n      <th>181</th>\n      <td>Caris LeVert</td>\n      <td>leverca01</td>\n    </tr>\n  </tbody>\n</table>\n<p>182 rows × 2 columns</p>\n</div>"
     },
     "metadata": {},
     "execution_count": 17
    }
   ],
   "source": [
    "df_bbref_id = pd.DataFrame(bbref_id_list, columns=['Player', 'BBRef_ID'])\n",
    "df_bbref_id"
   ]
  },
  {
   "source": [
    "### Merging BBRef IDs with DataFrame"
   ],
   "cell_type": "markdown",
   "metadata": {}
  },
  {
   "cell_type": "code",
   "execution_count": 18,
   "metadata": {},
   "outputs": [
    {
     "output_type": "execute_result",
     "data": {
      "text/plain": [
       "          Date     Team                           Player   Status  \\\n",
       "0   2020-12-22  Blazers                    Nassir Little  Injured   \n",
       "1   2020-12-22    Hawks                      Rajon Rondo  Injured   \n",
       "2   2020-12-23  Rockets  Kenyon Martin Jr. / K.J. Martin  Injured   \n",
       "3   2020-12-25    Bucks                   Mamadi Diakite  Injured   \n",
       "4   2020-12-25  Rockets                     Ben McLemore  Injured   \n",
       "..         ...      ...                              ...      ...   \n",
       "225 2021-05-09  Pistons                   Hamidou Diallo  Injured   \n",
       "226 2021-05-14  Thunder                        Josh Hall  Injured   \n",
       "227 2021-05-15     Heat                   Omer Yurtseven  Injured   \n",
       "228 2021-05-16    Spurs                  DaQuan Jeffries  Injured   \n",
       "229 2021-05-18   Pacers                     Caris LeVert  Injured   \n",
       "\n",
       "                                                 Notes   BBRef_ID  \n",
       "0                                       COVID-19 (DTD)  littlna01  \n",
       "1    placed on IL with NBA health and safety protocols  rondora01  \n",
       "2    placed on IL with NBA health and safety protocols  martike01  \n",
       "3    placed on IL with NBA health and safety protoc...  diakima01  \n",
       "4                                   COVID-19 protocols  mclembe01  \n",
       "..                                                 ...        ...  \n",
       "225  placed on IL with NBA health and safety protocols  diallha01  \n",
       "226  placed on IL with NBA health and safety protoc...   halljo01  \n",
       "227  placed on IL with NBA health and safety protocols  yurtsom01  \n",
       "228  placed on IL with NBA health and safety protoc...  jeffrda01  \n",
       "229  placed on IL with NBA health and safety protoc...  leverca01  \n",
       "\n",
       "[230 rows x 6 columns]"
      ],
      "text/html": "<div>\n<style scoped>\n    .dataframe tbody tr th:only-of-type {\n        vertical-align: middle;\n    }\n\n    .dataframe tbody tr th {\n        vertical-align: top;\n    }\n\n    .dataframe thead th {\n        text-align: right;\n    }\n</style>\n<table border=\"1\" class=\"dataframe\">\n  <thead>\n    <tr style=\"text-align: right;\">\n      <th></th>\n      <th>Date</th>\n      <th>Team</th>\n      <th>Player</th>\n      <th>Status</th>\n      <th>Notes</th>\n      <th>BBRef_ID</th>\n    </tr>\n  </thead>\n  <tbody>\n    <tr>\n      <th>0</th>\n      <td>2020-12-22</td>\n      <td>Blazers</td>\n      <td>Nassir Little</td>\n      <td>Injured</td>\n      <td>COVID-19 (DTD)</td>\n      <td>littlna01</td>\n    </tr>\n    <tr>\n      <th>1</th>\n      <td>2020-12-22</td>\n      <td>Hawks</td>\n      <td>Rajon Rondo</td>\n      <td>Injured</td>\n      <td>placed on IL with NBA health and safety protocols</td>\n      <td>rondora01</td>\n    </tr>\n    <tr>\n      <th>2</th>\n      <td>2020-12-23</td>\n      <td>Rockets</td>\n      <td>Kenyon Martin Jr. / K.J. Martin</td>\n      <td>Injured</td>\n      <td>placed on IL with NBA health and safety protocols</td>\n      <td>martike01</td>\n    </tr>\n    <tr>\n      <th>3</th>\n      <td>2020-12-25</td>\n      <td>Bucks</td>\n      <td>Mamadi Diakite</td>\n      <td>Injured</td>\n      <td>placed on IL with NBA health and safety protoc...</td>\n      <td>diakima01</td>\n    </tr>\n    <tr>\n      <th>4</th>\n      <td>2020-12-25</td>\n      <td>Rockets</td>\n      <td>Ben McLemore</td>\n      <td>Injured</td>\n      <td>COVID-19 protocols</td>\n      <td>mclembe01</td>\n    </tr>\n    <tr>\n      <th>...</th>\n      <td>...</td>\n      <td>...</td>\n      <td>...</td>\n      <td>...</td>\n      <td>...</td>\n      <td>...</td>\n    </tr>\n    <tr>\n      <th>225</th>\n      <td>2021-05-09</td>\n      <td>Pistons</td>\n      <td>Hamidou Diallo</td>\n      <td>Injured</td>\n      <td>placed on IL with NBA health and safety protocols</td>\n      <td>diallha01</td>\n    </tr>\n    <tr>\n      <th>226</th>\n      <td>2021-05-14</td>\n      <td>Thunder</td>\n      <td>Josh Hall</td>\n      <td>Injured</td>\n      <td>placed on IL with NBA health and safety protoc...</td>\n      <td>halljo01</td>\n    </tr>\n    <tr>\n      <th>227</th>\n      <td>2021-05-15</td>\n      <td>Heat</td>\n      <td>Omer Yurtseven</td>\n      <td>Injured</td>\n      <td>placed on IL with NBA health and safety protocols</td>\n      <td>yurtsom01</td>\n    </tr>\n    <tr>\n      <th>228</th>\n      <td>2021-05-16</td>\n      <td>Spurs</td>\n      <td>DaQuan Jeffries</td>\n      <td>Injured</td>\n      <td>placed on IL with NBA health and safety protoc...</td>\n      <td>jeffrda01</td>\n    </tr>\n    <tr>\n      <th>229</th>\n      <td>2021-05-18</td>\n      <td>Pacers</td>\n      <td>Caris LeVert</td>\n      <td>Injured</td>\n      <td>placed on IL with NBA health and safety protoc...</td>\n      <td>leverca01</td>\n    </tr>\n  </tbody>\n</table>\n<p>230 rows × 6 columns</p>\n</div>"
     },
     "metadata": {},
     "execution_count": 18
    }
   ],
   "source": [
    "df_main = pd.merge(left=df_cv19_2021, right=df_bbref_id, how='left', left_on=df_cv19_2021.Player, right_on=df_bbref_id.Player).drop(\"key_0\", axis=1).drop('Player_y', axis=1)\n",
    "df_main.rename(columns={'Player_x':'Player'}, inplace=True)\n",
    "df_main"
   ]
  },
  {
   "source": [
    "### Scrape "
   ],
   "cell_type": "markdown",
   "metadata": {}
  },
  {
   "cell_type": "code",
   "execution_count": 19,
   "metadata": {},
   "outputs": [
    {
     "output_type": "execute_result",
     "data": {
      "text/plain": [
       "182"
      ]
     },
     "metadata": {},
     "execution_count": 19
    }
   ],
   "source": [
    "for bbr_id in bbref_id_list:\n",
    "    "
   ]
  },
  {
   "cell_type": "code",
   "execution_count": null,
   "metadata": {},
   "outputs": [],
   "source": []
  },
  {
   "cell_type": "code",
   "execution_count": null,
   "metadata": {},
   "outputs": [],
   "source": []
  }
 ]
}